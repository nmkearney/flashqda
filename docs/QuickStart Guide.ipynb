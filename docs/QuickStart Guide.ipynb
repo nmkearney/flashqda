{
 "cells": [
  {
   "cell_type": "markdown",
   "id": "9b09b66c-d288-452b-ac97-426021b612a8",
   "metadata": {},
   "source": [
    "To install:\n",
    "\n",
    "1. Open Terminal.\n",
    "2. Type: python3 -m pip install flashqda\n",
    "\n",
    "FlashQDA currently offers six main functions:\n",
    "\n",
    "- preprocess_documents: Segment a corpus into paragraphs or sentences. Each document is given a unique document ID, and each paragraph/sentence is given a unique item ID (restarting at 1 for each document).\n",
    "- label_items: Label an item (an abstract, a paragraph, a sentence, or an extracted pair) according to a set of user-specified labels. Can be run before and/or after classify_items and extract_from_classified.\n",
    "- classify_items: Classify an item (a paragraph or a sentence) as causal or not_causal, or according to a user-specified classification scheme (e.g., tradeoff/not_tradeoff).\n",
    "- extract_from_classified: Extract causes and effects from an item (a paragraph or a sentence), or extract a user-specified extraction scheme (e.g., tradeoff: gain/cost)\n",
    "- embed_items: Embed extracted concepts to compute semantic similarity.\n",
    "- link_items: Link cause/effect relationships by semantic similarity (compare from_effect to to_cause). Can be used to construct a causal graph.\n",
    "\n",
    "In lieu of a user guide (in preparation), the notebook below provides examples of how to use the functions. \n",
    "Additional details on the functions are available in the doc strings. For example, help(flashqda.classify_items).\n",
    "\n",
    "FlashQDA is currently designed to work with OpenAI's API (GPT-4o).* \n",
    "If you have not done so already, you will need to setup an account with OpenAI and obtain an API. \n",
    "There is a cost for using the API.\n",
    "\n",
    "The example uses two articles on Ecuadorian cocoa, available in the Docs folder on GitHub (https://github.com/nmkearney/flashqda). \n",
    "Download the files and, once you have initialized your project (see below), add them to the Data folder. \n",
    "The files you need for the examples are:\n",
    "\n",
    "- Charry et al. 2025.txt\n",
    "- Tennhardt et al. 2023.txt\n",
    "\n",
    "* Support for other LLMs is under development."
   ]
  },
  {
   "cell_type": "code",
   "execution_count": null,
   "id": "a4b350eb-615b-4faa-8435-64f91f08a479",
   "metadata": {},
   "outputs": [],
   "source": [
    "# 1. import flashqda\n",
    "import flashqda"
   ]
  },
  {
   "cell_type": "code",
   "execution_count": null,
   "id": "94335546-1702-4131-9451-2f21c91de078",
   "metadata": {},
   "outputs": [],
   "source": [
    "# 2. Initialize a new project folder (adjust path as needed)\n",
    "project_root = \"/Users/<user_name>/Documents/flashQDA projects/my_project\"\n",
    "flashqda.initialize_project(project_root)\n",
    "\n",
    "# project_root is the directory where you want to store the project files\n",
    "# initialize_project sets up the following file structure in project_root:\n",
    "# /<project_name>\n",
    "# - /data (place data for analysis here)\n",
    "# - /prompts (place custom prompts here)\n",
    "# - /results\n",
    "\n",
    "# initialize_project also changes the working directory to <project_root>.\n",
    "# If you change the working directory (e.g., for another project), FlashQDA will stop working correctly.\n",
    "# You can set the working directory back to <directory> using: os.chdir(directory)."
   ]
  },
  {
   "cell_type": "code",
   "execution_count": null,
   "id": "f4891b9b",
   "metadata": {},
   "outputs": [],
   "source": [
    "# 3. Create ProjectContext for convenient path management\n",
    "project = flashqda.ProjectContext(project_root)"
   ]
  },
  {
   "cell_type": "code",
   "execution_count": null,
   "id": "31acf0d5",
   "metadata": {
    "vscode": {
     "languageId": "plaintext"
    }
   },
   "outputs": [],
   "source": [
    "# 4. Retrieve OpenAI API key\n",
    "flashqda.get_openai_api_key(\n",
    "    project_root=project_root\n",
    "    )\n",
    "\n",
    "# Place a .txt file named \"openapi_api_key.txt\" in the root folder (add only the API key to the file)"
   ]
  },
  {
   "cell_type": "code",
   "execution_count": null,
   "id": "51a90e15",
   "metadata": {},
   "outputs": [],
   "source": [
    "# 5. Label abstracts\n",
    "config = flashqda.PipelineConfig.from_type(\n",
    "    \"causal\",\n",
    "    topic = \"agroforestry in Peru\"\n",
    ")\n",
    "granularity = \"abstract\"\n",
    "label_list = [\n",
    "    \"agroforestry is a main topic\",\n",
    "    \"Peru is a main topic\",\n",
    "    \"space travel is a main topic\"\n",
    "]\n",
    "input_file = project.data / \"abstracts.csv\"\n",
    "expand = True\n",
    "output_directory = project.results\n",
    "save_name = \"abstracts_labelled.csv\"\n",
    "\n",
    "flashqda.label_items(\n",
    "        project=project, \n",
    "        config=config,\n",
    "        granularity=granularity,\n",
    "        label_list=label_list,\n",
    "        expand=expand,\n",
    "        input_file=input_file, \n",
    "        output_directory=output_directory,\n",
    "        save_name=save_name\n",
    "        )"
   ]
  },
  {
   "cell_type": "code",
   "execution_count": null,
   "id": "375a3a13",
   "metadata": {
    "vscode": {
     "languageId": "plaintext"
    }
   },
   "outputs": [],
   "source": [
    "# 5. Segment documents in 'data/' folder and save CSV\n",
    "granularity = \"sentence\" # Options: abstract, paragraph, sentence\n",
    "custom_items = []\n",
    "save_name = \"sentences.csv\"\n",
    "\n",
    "flashqda.preprocess_documents(\n",
    "    project = project,\n",
    "    granularity = granularity, # Optional; default is \"sentence\"\n",
    "    custom_items = custom_items, # Optional; default is None\n",
    "    save_name = save_name # Optional: default is {granularity}.csv\n",
    "    )"
   ]
  },
  {
   "cell_type": "code",
   "execution_count": null,
   "id": "d7006f1e",
   "metadata": {
    "vscode": {
     "languageId": "plaintext"
    }
   },
   "outputs": [],
   "source": [
    "# 6. Segment documents in 'data/' folder and save CSV\n",
    "granularity = \"sentence\"\n",
    "custom_items = []\n",
    "save_name = \"sentences.csv\"\n",
    "\n",
    "flashqda.preprocess_documents(\n",
    "    project = project,\n",
    "    granularity = granularity,\n",
    "    custom_items = custom_items,\n",
    "    save_name = save_name\n",
    "    )"
   ]
  },
  {
   "cell_type": "code",
   "execution_count": null,
   "id": "8190a8f2",
   "metadata": {
    "vscode": {
     "languageId": "plaintext"
    }
   },
   "outputs": [],
   "source": [
    "# 7a. Classify items as causal or not (default pipeline)\n",
    "pipeline_config = flashqda.PipelineConfig.from_type(\n",
    "    \"causal\",\n",
    "    topic = \"agroforestry in Peru\"\n",
    ")\n",
    "granularity = \"sentence\"\n",
    "context_length = 1\n",
    "input_file = project.data / \"sentences.csv\"\n",
    "output_directory = project.results\n",
    "save_name = \"sentences_classified.csv\"\n",
    "\n",
    "classified_df = flashqda.classify_items(\n",
    "    project = project,\n",
    "    config=pipeline_config,\n",
    "    granularity = granularity,\n",
    "    context_length = context_length,\n",
    "    input_file = input_file,\n",
    "    output_directory = output_directory,\n",
    "    save_name = save_name\n",
    ")"
   ]
  },
  {
   "cell_type": "code",
   "execution_count": null,
   "id": "faad6f66",
   "metadata": {
    "vscode": {
     "languageId": "plaintext"
    }
   },
   "outputs": [],
   "source": [
    "# Optional 7bi. Instantiate a custom pipeline (adapt as needed)\n",
    "tradeoff_pipeline = flashqda.PipelineConfig(\n",
    "    pipeline_type = \"tradeoff\",\n",
    "    labels = [\"tradeoff\", \"not tradeoff\"],\n",
    "    extract_labels= [\"gain\", \"cost\"],\n",
    "    prompt_files = {\n",
    "        \"classify\": \"tradeoff_classify.txt\",\n",
    "        \"tradeoff_label_extracted\": \"tradeoff_label_extracted.txt\",\n",
    "        \"extract\": \"tradeoff_extract.txt\",\n",
    "    },\n",
    "    system_prompt = \"You are helping identify tradeoffs in text. The topic is organic farming and just, sustainable food systems transitions.\"\n",
    ")"
   ]
  },
  {
   "cell_type": "code",
   "execution_count": null,
   "id": "62f84b1e",
   "metadata": {
    "vscode": {
     "languageId": "plaintext"
    }
   },
   "outputs": [],
   "source": [
    "# Optional 7bii. Execute a custom pipeline\n",
    "pipeline_config = tradeoff_pipeline\n",
    "granularity = \"sentence\"\n",
    "context_length = 1\n",
    "input_file = project.data / \"sentences.csv\"\n",
    "output_directory = project.results\n",
    "save_name = \"sentences_tradeoffs_classified.csv\"\n",
    "\n",
    "flashqda.classify_items(\n",
    "    project = project, \n",
    "    config=pipeline_config,\n",
    "    granularity = granularity,\n",
    "    context_length = context_length,\n",
    "    input_file = input_file, \n",
    "    output_directory = output_directory,\n",
    "    save_name = save_name\n",
    ")"
   ]
  },
  {
   "cell_type": "code",
   "execution_count": null,
   "id": "96d2b894",
   "metadata": {
    "vscode": {
     "languageId": "plaintext"
    }
   },
   "outputs": [],
   "source": [
    "# 8. Label causal items (e.g., for inclusion/exclusion)\n",
    "pipeline_config = flashqda.PipelineConfig.from_type(\n",
    "    \"causal\",\n",
    "    topic = \"agroforestry in Peru\"\n",
    ")\n",
    "granularity = \"sentence\"\n",
    "context_length = 1\n",
    "include_class = \"causal\"\n",
    "label_list = [\"Label: substantive_not_methodological. Description: The sentence discusses the topic being studied, not how the study was conducted, framed, or limited.\",\n",
    "              \"Label: descriptive_not_prescriptive. Description: The sentence describes how or why something happens, without suggesting what should be done.\",\n",
    "              \"Label: definitive_not_ambiguous. Description: The sentence states a causal relationship without hedging (e.g., 'may cause', 'could contribute to').\"\n",
    "              ]\n",
    "expand = True\n",
    "input_file = project.results / \"sentences_classified.csv\"\n",
    "output_directory = project.results\n",
    "save_name = \"sentences_classified_labelled.csv\"\n",
    "\n",
    "labelled_df = flashqda.label_items(\n",
    "    project = project,\n",
    "    config = pipeline_config,\n",
    "    granularity = granularity,\n",
    "    context_length = context_length,\n",
    "    include_class = include_class,\n",
    "    label_list = label_list,\n",
    "    expand = expand,\n",
    "    input_file = input_file,\n",
    "    output_directory = output_directory,\n",
    "    save_name = save_name\n",
    ")"
   ]
  },
  {
   "cell_type": "code",
   "execution_count": null,
   "id": "2a006322-9adb-4653-9cb1-82b630ca632b",
   "metadata": {},
   "outputs": [],
   "source": [
    "# 9. Extract causes and effects from causal items\n",
    "pipeline_config = flashqda.PipelineConfig.from_type(\n",
    "    \"causal\",\n",
    "    topic = \"agroforestry in Peru\"\n",
    ")\n",
    "granularity = \"sentence\"\n",
    "context_length = 1\n",
    "include_class = \"causal\"\n",
    "filter_keys = \"FALSE\"\n",
    "filter_column = \"substantive_not_methodological\"\n",
    "input_file = project.results / \"sentences_classified_labelled.csv\"\n",
    "output_directory = project.results # Default\n",
    "save_name = \"sentences_classified_labelled_extracted.csv\"\n",
    "\n",
    "extracted_df = flashqda.extract_from_classified(\n",
    "    project = project, \n",
    "    config=pipeline_config,\n",
    "    granularity = granularity,\n",
    "    context_length = context_length,\n",
    "    include_class=include_class,\n",
    "    filter_keys = filter_keys,\n",
    "    filter_column = filter_column,\n",
    "    input_file = input_file,\n",
    "    output_directory = output_directory,\n",
    "    save_name = save_name\n",
    "    )"
   ]
  },
  {
   "cell_type": "code",
   "execution_count": null,
   "id": "12a7d5ee-52e8-42d6-ad8b-b0c1de256c5d",
   "metadata": {
    "scrolled": true
   },
   "outputs": [],
   "source": [
    "# 10. Label extracted items\n",
    "pipeline_config = flashqda.PipelineConfig.from_type(\n",
    "    \"causal\",\n",
    "    topic = \"agroforestry in Peru\"\n",
    ")\n",
    "granularity = \"sentence\"\n",
    "context_length = 1\n",
    "include_class = \"causal\"\n",
    "label_list = [\"Label: social_system. Description: The cause/effect pair relates to social systems (e.g., demography, social organization, culture, politics, economics, social actors).\",\n",
    "               \"Label: ecological_system. Description: The cause/effect pair relates to ecological systems (e.g., resources, organisms, ecosystems, habitats, ecosystem services).\",\n",
    "               \"Label: barrier. Description: The cause/effect pair describes how or why something does not or cannot happen.\",\n",
    "               \"Label: driver. Description: The cause/effect pair describes how or why something does happen.\"\n",
    "              ]\n",
    "on_extracted = True\n",
    "expand = True\n",
    "input_file = project.results / \"sentences_classified_labelled_extracted.csv\"\n",
    "output_directory = project.results\n",
    "save_name = \"sentences_classified_labelled_extracted_labelled.csv\"\n",
    "\n",
    "labelled_df = flashqda.label_items(\n",
    "    project = project,\n",
    "    config = pipeline_config,\n",
    "    granularity = granularity,\n",
    "    context_length = context_length,\n",
    "    include_class = include_class,\n",
    "    label_list = label_list,\n",
    "    on_extracted = on_extracted,\n",
    "    expand = expand,\n",
    "    input_file = input_file,\n",
    "    output_directory = output_directory,\n",
    "    save_name = save_name\n",
    ")"
   ]
  },
  {
   "cell_type": "code",
   "execution_count": null,
   "id": "e18450b0",
   "metadata": {},
   "outputs": [],
   "source": [
    "# 11. Generate embeddings\n",
    "pipeline_config = flashqda.PipelineConfig.from_type(\"causal\")\n",
    "column_names = [\"cause\", \"effect\"]\n",
    "input_file = project.results / \"sentences_classified_labelled_extracted.csv\"\n",
    "output_directory = project.results\n",
    "save_name = \"embeddings.json\"\n",
    "\n",
    "embeddings = flashqda.embed_items(\n",
    "    project = project,\n",
    "    config = pipeline_config,\n",
    "    column_names = column_names,\n",
    "    input_file = input_file,\n",
    "    output_directory = output_directory,\n",
    "    save_name = save_name\n",
    ")"
   ]
  },
  {
   "cell_type": "code",
   "execution_count": null,
   "id": "c3b23f2c",
   "metadata": {},
   "outputs": [],
   "source": [
    "# 12. Link similar causal relationships\n",
    "pipeline_config = flashqda.PipelineConfig.from_type(\"causal\")\n",
    "threshold = 0.85\n",
    "input_file = project.results / \"sentences_classified_labelled_extracted.csv\"\n",
    "embedding_file = project.results / \"embeddings.json\"\n",
    "output_directory = project.results\n",
    "save_name = \"suggested_links.csv\"\n",
    "\n",
    "links = flashqda.link_items(\n",
    "    project = project,\n",
    "    config = pipeline_config,\n",
    "    threshold = threshold,\n",
    "    input_file = input_file,\n",
    "    embedding_file = embedding_file,\n",
    "    output_directory = output_directory,\n",
    "    save_name = save_name\n",
    ")"
   ]
  }
 ],
 "metadata": {
  "kernelspec": {
   "display_name": "Python 3 (ipykernel)",
   "language": "python",
   "name": "python3"
  },
  "language_info": {
   "codemirror_mode": {
    "name": "ipython",
    "version": 3
   },
   "file_extension": ".py",
   "mimetype": "text/x-python",
   "name": "python",
   "nbconvert_exporter": "python",
   "pygments_lexer": "ipython3",
   "version": "3.8.8"
  }
 },
 "nbformat": 4,
 "nbformat_minor": 5
}
